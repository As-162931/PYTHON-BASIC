{
 "cells": [
  {
   "cell_type": "raw",
   "id": "3d62f38c-52b4-4e60-9a7d-f1c179e06900",
   "metadata": {},
   "source": [
    "# BASIC QUESTIONS\n",
    "1. Python is programing language.That helps to build wepsite, software and automate task.It is very popylar because it widely use in industry , a lot of      libraries and essy to learn.\n",
    "2. Interpreter is a computer program that converts each high-level program statement into machine code.A program that reads and executes Python code line     by line.\n",
    "3. In python keyword are predefined words that hold a special meaning and have special purpose in python.\n",
    "4. No keywords not use as variable nanme because keywords already structured and predifined for programing.\n",
    "5. Mutability refers to the ability of an object to change after it has been created .\n",
    "6. Tuples and lists are the same in every way except two: tuples use parentheses instead of square brackets, and the items in tuples cannot be modified       but the items in lists can be modified. We often call lists mutable meaning they can be changed and tuples immutable meaning they cannot be changed\n",
    "7. '==' checks for value equality, determining whether two variables have the same value. 'Is' checks for identity equality, determining whether two          variables refers to the same memory location.\n",
    "8. Logicaloparater are used to perform logical operation:AND, OR, & NOT are operaters.\n",
    "9. Type casting refers to converting one data type to anather such as using int(), float() or str() explicity convert value.\n",
    "10. Implicit:python automatically convert one data type to another like int to float in mathamatical operation.\n",
    "    Emplicit:the programmer manually converts the data type using type conversion function like  int(), float().\n",
    "11. Conditional statements allow decision - making by executing diffrent clocks of code based on whether a condition evaluates to true or false.\n",
    "12. The elif statement stands fot \"else if\". It provides additional conditions to test when the previous if or elif conditon is false.\n",
    "13. A \"for\" loop is used when you know exactly how many times you want to iterate through a black of code, while \"while\" loop continues to iterate as long     as a specific condition remains true.\n",
    "14. A while loop is better when the numver of iteration is unknown beforehand and depend on a codition, such as waitingfor user input or a specific event."
   ]
  },
  {
   "cell_type": "code",
   "execution_count": 3,
   "id": "335c6c64-9ef6-4c68-93f5-1632f7230539",
   "metadata": {},
   "outputs": [
    {
     "name": "stdout",
     "output_type": "stream",
     "text": [
      "hello, world\n"
     ]
    }
   ],
   "source": [
    "#PRACTICAL QUESTIONS:\n",
    "#1\n",
    "print(\"hello, world\")"
   ]
  },
  {
   "cell_type": "code",
   "execution_count": 6,
   "id": "7f49f7e4-ccb1-4153-b5e4-c182c45dc98d",
   "metadata": {},
   "outputs": [],
   "source": [
    "#2\n",
    "name = \"amit singh\"\n",
    "age = 29"
   ]
  },
  {
   "cell_type": "code",
   "execution_count": 7,
   "id": "ce8d39a4-64d5-4ba3-b5fe-01c30cbd5038",
   "metadata": {},
   "outputs": [
    {
     "data": {
      "text/plain": [
       "'amit singh'"
      ]
     },
     "execution_count": 7,
     "metadata": {},
     "output_type": "execute_result"
    }
   ],
   "source": [
    "name"
   ]
  },
  {
   "cell_type": "code",
   "execution_count": 8,
   "id": "3a779719-86be-45d0-ae5b-d768b7ca1d53",
   "metadata": {},
   "outputs": [
    {
     "data": {
      "text/plain": [
       "29"
      ]
     },
     "execution_count": 8,
     "metadata": {},
     "output_type": "execute_result"
    }
   ],
   "source": [
    "age\n"
   ]
  },
  {
   "cell_type": "code",
   "execution_count": 5,
   "id": "471814a0-68ed-4d2f-bc7f-cbe60a2e7802",
   "metadata": {},
   "outputs": [
    {
     "name": "stdin",
     "output_type": "stream",
     "text": [
      "enter a word or\n"
     ]
    },
    {
     "name": "stdout",
     "output_type": "stream",
     "text": [
      "this is not a keyword\n"
     ]
    }
   ],
   "source": [
    "#4\n",
    "import keyword\n",
    "a = input(\"enter a word\")\n",
    "if a == keyword. iskeyword(a):\n",
    "    print(\"this is a keyword\")\n",
    "else:\n",
    "    print(\"this is not a keyword\")"
   ]
  },
  {
   "cell_type": "code",
   "execution_count": 13,
   "id": "542b135d-3279-490e-96d3-7a6da49410ff",
   "metadata": {},
   "outputs": [],
   "source": [
    "#5:\n",
    "list_cont = [1, 3, 5, 6, 7, \"amit\", \"sumit\"]\n",
    "tuple_cont = [1, 3, 5, 6, 7, \"amit\", \"sumit\"]"
   ]
  },
  {
   "cell_type": "code",
   "execution_count": 10,
   "id": "38f04cba-c9b0-4e16-8562-a8de3ec2ddde",
   "metadata": {},
   "outputs": [],
   "source": [
    "list_cont[-1] = \"singh\""
   ]
  },
  {
   "cell_type": "code",
   "execution_count": 12,
   "id": "766e6ed2-b269-4075-9d01-19d37a60539d",
   "metadata": {},
   "outputs": [
    {
     "name": "stdout",
     "output_type": "stream",
     "text": [
      "[1, 3, 5, 6, 7, 'amit', 'singh']\n"
     ]
    }
   ],
   "source": [
    "print(list_cont)"
   ]
  },
  {
   "cell_type": "code",
   "execution_count": 15,
   "id": "04e91b8a-7a38-4ba3-9ee5-87b0ac243e0e",
   "metadata": {},
   "outputs": [],
   "source": [
    "tuple_cont[-1] = \"singh\""
   ]
  },
  {
   "cell_type": "code",
   "execution_count": 16,
   "id": "2f16460b-7604-4bc5-9b65-f08a69998e38",
   "metadata": {},
   "outputs": [
    {
     "name": "stdout",
     "output_type": "stream",
     "text": [
      "[1, 3, 5, 6, 7, 'amit', 'singh']\n"
     ]
    }
   ],
   "source": [
    "print(tuple_cont)"
   ]
  },
  {
   "cell_type": "code",
   "execution_count": 1,
   "id": "4ad14e93-5ae4-4bda-ba38-e970058cfd23",
   "metadata": {},
   "outputs": [
    {
     "name": "stdout",
     "output_type": "stream",
     "text": [
      "both are real and positive number\n"
     ]
    }
   ],
   "source": [
    "#6\n",
    "a = 20\n",
    "b = 50\n",
    "if a and b > 0:\n",
    "    print(\"both are real and positive number\")\n",
    "if a < 0 or b < -5:\n",
    "    print(\"a & b both are negative number\")"
   ]
  },
  {
   "cell_type": "code",
   "execution_count": 2,
   "id": "aa73ffb1-21f8-4aa6-90b3-6147a994c70c",
   "metadata": {},
   "outputs": [
    {
     "name": "stdin",
     "output_type": "stream",
     "text": [
      "Enter a value:  5\n"
     ]
    },
    {
     "name": "stdout",
     "output_type": "stream",
     "text": [
      "As integer: 5\n",
      "As float: 5.0\n",
      "As boolean: True\n"
     ]
    }
   ],
   "source": [
    "#7\n",
    "user_input = input(\"Enter a value: \")\n",
    "print(\"As integer:\", int(user_input))\n",
    "print(\"As float:\", float(user_input))\n",
    "print(\"As boolean:\", bool(user_input))"
   ]
  },
  {
   "cell_type": "code",
   "execution_count": 9,
   "id": "88fa7d2d-597a-4f28-9cdf-b020c2c89c1a",
   "metadata": {},
   "outputs": [
    {
     "data": {
      "text/plain": [
       "int"
      ]
     },
     "execution_count": 9,
     "metadata": {},
     "output_type": "execute_result"
    }
   ],
   "source": [
    "#9\n",
    "a = 5\n",
    "b = 4\n",
    "type(a)"
   ]
  },
  {
   "cell_type": "code",
   "execution_count": 7,
   "id": "080dda50-f8ce-474d-b512-ea0691590191",
   "metadata": {},
   "outputs": [],
   "source": [
    "a = \"5\""
   ]
  },
  {
   "cell_type": "code",
   "execution_count": 8,
   "id": "04ddcdd2-cd7b-4619-aa4b-f937a8ec2663",
   "metadata": {},
   "outputs": [
    {
     "data": {
      "text/plain": [
       "str"
      ]
     },
     "execution_count": 8,
     "metadata": {},
     "output_type": "execute_result"
    }
   ],
   "source": [
    "type(\"a\")"
   ]
  },
  {
   "cell_type": "code",
   "execution_count": 10,
   "id": "7e67e052-d89f-4bd4-b9b8-d65a96323a70",
   "metadata": {},
   "outputs": [
    {
     "data": {
      "text/plain": [
       "5.0"
      ]
     },
     "execution_count": 10,
     "metadata": {},
     "output_type": "execute_result"
    }
   ],
   "source": [
    "float(a)"
   ]
  },
  {
   "cell_type": "code",
   "execution_count": 12,
   "id": "6d0c42f6-d064-490d-8a22-e1a82df74df5",
   "metadata": {},
   "outputs": [
    {
     "data": {
      "text/plain": [
       "True"
      ]
     },
     "execution_count": 12,
     "metadata": {},
     "output_type": "execute_result"
    }
   ],
   "source": [
    "bool(a)"
   ]
  },
  {
   "cell_type": "code",
   "execution_count": 22,
   "id": "0593573e-15c8-4ee5-83e0-152af4c915ef",
   "metadata": {},
   "outputs": [
    {
     "data": {
      "text/plain": [
       "int"
      ]
     },
     "execution_count": 22,
     "metadata": {},
     "output_type": "execute_result"
    }
   ],
   "source": [
    "#10\n",
    "aman = (28, \"santipally\", 5.2, 25, 89, 67)\n",
    "type(3)"
   ]
  },
  {
   "cell_type": "code",
   "execution_count": 25,
   "id": "5cc78f0f-0733-4c7d-b325-f8c43229c4a9",
   "metadata": {},
   "outputs": [
    {
     "name": "stdout",
     "output_type": "stream",
     "text": [
      "(28, 'santipally', 5.2, 25, 89, 67)\n"
     ]
    }
   ],
   "source": [
    "str(2)\n",
    "print(aman)"
   ]
  },
  {
   "cell_type": "code",
   "execution_count": 27,
   "id": "5c4e4653-2245-47ab-9a27-ff217352ba76",
   "metadata": {},
   "outputs": [
    {
     "name": "stdin",
     "output_type": "stream",
     "text": [
      "inter a number: 5\n"
     ]
    },
    {
     "name": "stdout",
     "output_type": "stream",
     "text": [
      "the number is positive\n"
     ]
    }
   ],
   "source": [
    "#10\n",
    "num = float(input(\"inter a number:\"))\n",
    "if num > 0:\n",
    "    print(\"the number is positive\")\n",
    "elif num < 0:\n",
    "    print(\"the number is negetive\")\n",
    "else:\n",
    "    print(\"the number is zero\")\n",
    "    \n",
    "        \n"
   ]
  },
  {
   "cell_type": "code",
   "execution_count": 28,
   "id": "81d0f93a-7156-432a-a821-1f5638d609b5",
   "metadata": {},
   "outputs": [
    {
     "name": "stdout",
     "output_type": "stream",
     "text": [
      "1\n",
      "2\n",
      "3\n",
      "4\n",
      "5\n",
      "6\n",
      "7\n",
      "8\n",
      "9\n"
     ]
    }
   ],
   "source": [
    "#11\n",
    "for i in range(1, 10): \n",
    "    print(i)"
   ]
  },
  {
   "cell_type": "code",
   "execution_count": 29,
   "id": "a5b56f65-5ab0-43fd-bfe5-6302689beba6",
   "metadata": {},
   "outputs": [
    {
     "name": "stdout",
     "output_type": "stream",
     "text": [
      "sum of even numbers between 1 and 50: 650\n"
     ]
    }
   ],
   "source": [
    "even_sum = sum(i for i in range(1, 51) if i % 2 == 0)\n",
    "print(\"sum of even numbers between 1 and 50:\", even_sum)\n",
    "                "
   ]
  },
  {
   "cell_type": "code",
   "execution_count": 30,
   "id": "4ae4b428-42e1-4709-808c-7d03d297e646",
   "metadata": {},
   "outputs": [
    {
     "name": "stdin",
     "output_type": "stream",
     "text": [
      "Enter a string:  ram\n"
     ]
    },
    {
     "name": "stdout",
     "output_type": "stream",
     "text": [
      "Reversed string: mar\n"
     ]
    }
   ],
   "source": [
    "string = input(\"Enter a string: \")\n",
    "reversed_string = \"\"\n",
    "i = len(string) - 1\n",
    "while i >= 0:\n",
    "    reversed_string += string[i]\n",
    "    i -= 1\n",
    "print(\"Reversed string:\", reversed_string)"
   ]
  },
  {
   "cell_type": "code",
   "execution_count": 31,
   "id": "46ba8d13-5ea0-44ba-91d3-1bb3eaf38795",
   "metadata": {},
   "outputs": [
    {
     "name": "stdin",
     "output_type": "stream",
     "text": [
      "Enter a number:  8\n"
     ]
    },
    {
     "name": "stdout",
     "output_type": "stream",
     "text": [
      "The factorial of 8 is 40320.\n"
     ]
    }
   ],
   "source": [
    "#14\n",
    "num = int(input(\"Enter a number: \"))\n",
    "factorial = 1\n",
    "i = 1\n",
    "while i <= num:\n",
    "    factorial *= i\n",
    "    i += 1\n",
    "print(f\"The factorial of {num} is {factorial}.\")"
   ]
  },
  {
   "cell_type": "code",
   "execution_count": null,
   "id": "bf349411-0546-45f3-b875-d9bcb6d73b63",
   "metadata": {},
   "outputs": [],
   "source": []
  }
 ],
 "metadata": {
  "kernelspec": {
   "display_name": "Python 3 (ipykernel)",
   "language": "python",
   "name": "python3"
  },
  "language_info": {
   "codemirror_mode": {
    "name": "ipython",
    "version": 3
   },
   "file_extension": ".py",
   "mimetype": "text/x-python",
   "name": "python",
   "nbconvert_exporter": "python",
   "pygments_lexer": "ipython3",
   "version": "3.13.1"
  }
 },
 "nbformat": 4,
 "nbformat_minor": 5
}
